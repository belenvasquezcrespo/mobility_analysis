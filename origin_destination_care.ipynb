{
  "Introduction": "In the study of travel behavior at the barangay level in Guiuan, an important aspect to consider is the analysis of the origin and destination of care trips. This analysis provides insights into the relationships between different regions and barangays within Guiuan, shedding light on the interplay within the geographic boundaries of the municipality.",
  "Posing Questions": "The analysis of origin and destination aims to answer questions related to the patterns of care trips in Guiuan. This includes identifying the top exporters and receivers of care trips, understanding the most and least connected regions, and examining trips within the same area.",
  "Data Collection": "The data for this analysis were collected through surveys, capturing information on the origin and destination of care trips. The survey asked about all the trips they made yesterday, with special detail into care-related trips. The starting place was Home, and the day finished at 11.00 P.M. The collected data were carefully processed and prepared for analysis, ensuring accuracy and reliability.",
  "Exploratory Data Analysis": "R Studio is used to do the necessary analysis to understand the mobility of care dynamic at the regional level.",
  "Code": [
    "# Load the circlize package",
    "library(circlize)",
    "",
    "# Create sample data",
    "data <- matrix(c(22, 0, 1, 0, 0, 8, 0, 0, 0, 0, 0, 1, 0, 0, 71, 0, 2, 38, 0, 0, 0, 3, 0, 2, 0, 0, 0, 0, 30, 0, 7, 5, 32, 6, 8, 233), nrow = 6,\n   dimnames = list(c(\"Caliocan I.\", \"Homonhon I.\", \"Rural M.\", \"Manicani I.\", \"Tubabao I.\", \"Urban M.\"),\n                   c(\"Caliocan I.\", \"Homonhon I.\", \"Rural M.\", \"Manicani I.\", \"Tubabao I.\", \"Urban M.\")))",
    "",
    "# Add self-links",
    "diag(data) <- diag(data) / 2",
    "",
    "# Create the chord diagram",
    "chordDiagram(data, grid.col = 1:6, self.link = 1)",
    "",
    "circos.par(gap.after = c( \"Urban M.\" = 30, \"Rural M.\"= 15, \"Caliocan I.\"= 15, \"Homonhon I.\"= 15,\n                          \"Manicani I.\"= 15, \"Tubabao I.\"= 15))",
    "",
    "chordDiagram(data, order = c(\"Urban M.\", \"Rural M.\", \"Caliocan I.\",\n                             \"Homonhon I.\", \"Tubabao I.\", \"Manicani I.\"))",
    "",
    "chordDiagram(data, grid.col = c(\"Urban M.\" = \"#343779\", \"Rural M.\" = \"#FC7643\",\n                               \"Caliocan I.\" = \"#33A9AC\", \"Homonhon I.\" = \"#DA2A47\", \"Manicani I.\" = \"#A5CF61\",\n                               \"Tubabao I.\" = \"#E9

.
