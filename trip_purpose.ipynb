1Research question and Objectives 
The research aims to address the following research question: How do gender and sociodemographic factors, such as age, civil status, and presence of dependents, influence travel behavior at the barangay level in the study area of Guiuan, including the number of trips taken, preferred mode of transportation, and distance traveled? Furthermore, to what extent do these relationships vary spatially across the different barangays?
The primary objective of this study is to analyze individual mobility, with a specific focus on the mobility of care, from a spatial, socio-demographic, and gender perspective in Guiuan, Philippines. In order to achieve this overarching goal, three specific objectives have been identified:
•	Determine the share of mobility of care in relation to total mobility within Guiuan, Philippines.
•	Describe the travel patterns within the realm of mobility of care, through a granular analysis of gender and sociodemographic factors. This includes understanding individual experiences and identifying barriers that impact care-related travel
•	Examine the spatial variations of care-related travel at the barangay level, employing spatial data mining techniques such as global Moran's I, Anselin Local Moran's I, and grouping analysis.

By refining these objectives, the study endeavors to furnish a comprehensive and nuanced comprehension of the magnitude of care-related mobility's contribution within Guiuan's broader travel dynamics. Furthermore, it seeks to unravel the intricate interplay of gender and sociodemographic factors in shaping care-related travel behavior, while simultaneously disentangling the spatially heterogeneous patterns inherent to different barangays.

