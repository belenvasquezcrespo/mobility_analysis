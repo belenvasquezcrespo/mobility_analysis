{
  "cells": [
    {
      "cell_type": "markdown",
      "metadata": {},
      "source": [
        "# Analysis of Origin and Destination of Care Trips in Guiuan: Insights into Travel Patterns\n\n",
        "## Table of Contents:\n\n",
        "1. Introduction\n",
        "2. Posing Questions\n",
        "3. Data Collection and Wrangling\n",
        "4. Exploratory Data Analysis\n",
        "5. Conclusions\n"
      ]
    },
    {
      "cell_type": "markdown",
      "metadata": {},
      "source": [
        "## 1. Introduction\n\n",
        "In the study of travel behavior at the barangay level in Guiuan, an important aspect to consider is the analysis of the origin and destination of care trips. This analysis provides insights into the relationships between different regions and barangays within Guiuan, shedding light on the interplay within the geographic boundaries of the municipality."
      ]
    },
    {
      "cell_type": "markdown",
      "metadata": {},
      "source": [
        "## 2. Posing Questions\n\n",
        "The analysis of origin and destination aims to answer questions related to the patterns of care trips in Guiuan. This includes identifying the top exporters and receivers of care trips, understanding the most and least connected regions, and examining trips within the same area."
      ]
    },
    {
      "cell_type": "markdown",
      "metadata": {},
      "source": [
        "## 3. Data Collection and Wrangling\n\n",
        "The data for this analysis were collected through surveys, capturing information on the origin and destination of care trips. The survey asked about all the trips they made yesterday, with special detail into care-related trips. The starting place was Home, and the day finished at 11.00 P.M. The collected data were carefully processed and prepared for analysis, ensuring accuracy and reliability."
      ]
    },
    {
      "cell_type": "code",
      "execution_count": null,
      "metadata": {
        "language": "r"
      },
      "outputs": [],
      "source": [
        "# Load the circlize package\n",
        "library(circlize)\n",
        "\n",
        "# Create sample data\n",
        "data <- matrix(c(22, 0, 1, 0, 0, 8, 0, 0, 0, 0, 0, 1, 0, 0, 71, 0, 2, 38, 0, 0, 0, 3, 0, 2, 0, 0, 0, 0, 30, 0, 7, 5, 32, 6, 8, 233), nrow = 6,\n",
        "   dimnames = list(c(\"Caliocan I.\", \"Homonhon I.\", \"Rural M.\", \"Manicani I.\", \"Tubabao I.\", \"Urban M.\"), \n",
        "                   c(\"Caliocan I.\", \"Homonhon I.\", \"Rural M.\", \"Manicani I.\", \"Tubabao I.\", \"Urban M.\")))\n",
        "\n",
        "# Add self-links\n",
        "diag(data) <- diag(data) / 2\n",
        "\n",
        "# Create the chord diagram\n",
        "chordDiagram(data, grid.col = 1:6, self.link = 1)\n",
        "\n",
        "circos.par(gap.after = c( \"Urban M.\" = 30, \"Rural M.\"= 15, \"Caliocan I.\"= 15, \"Homonhon I.\"= 15, \n",
        "                          \"Manicani I.\"= 15, \"Tubabao I.\"= 15))\n",
        "\n",
        "chordDiagram(data, order = c(\"Urban M.\", \"Rural M.\", \"Caliocan I.\", \n",
        "                             \"Homonhon I.\", \"Tubabao I.\", \"Manicani I.\"))\n",
        "\n",
        "chordDiagram(data, grid.col = c(\"Urban M.\" = \"#343779\", \"Rural M.\" = \"#FC7643\", \n",
        "                               \"Caliocan I.\" = \"#33A9AC\", \"Homonhon I.\" = \"#DA2A47\", \"Manicani I.\" = \"#A5CF61\", \n",
        "                               \"Tubabao I.\" = \"#E9C46A\", self.link = 1))\n",
        "\n",
        "# Saving the plot (high definition)\n",
        "dev.copy(jpeg,'plot.png', width = 8, height = 8, units = \"in\", res = 500)\n",
        "dev.off()"
      ]
    },
    {
      "cell_type": "markdown",
      "metadata": {},
      "source": [
        "The analysis revealed significant insights into care travel patterns, including the prominence of care trips within the Urban Mainland region. This region exhibited a substantial volume of care trips, accounting for nearly 50% of the total. The reasons behind this trend can be attributed to factors such as population density, robust infrastructure, presence of facilities, and vibrant economic activity compared to other regions.\n\n",
        "Furthermore, the Urban Mainland region emerged as both a primary source and recipient of care trips, highlighting its interconnectedness and high demand for transportation services. Notably, the most common care activity involving travel outside the urban area was related to escorting children to and from school in the Rural Mainland, emphasizing the need for targeted interventions to ensure safe commuting in this area.\n\n",
        "On the islands of Tuababao, Manicani, Homonhon, and Calicoan, there were fewer care trips compared to the mainland regions, with limited inter-regional connections. Individuals tended to travel within their respective islands for care-related purposes, indicating restricted mobility due to the scarcity of transportation alternatives and considerable distances to other areas.\n\n",
        "![Image 1](plot.png)\n\n",
        "A detailed analysis at the barangay level revealed complex patterns of care-related travel. Concentration of care trips was observed in urban barangays such as Pob. 4, Pob. 6, and Pob. 8. These barangays were not only the top receivers of care trips but also highly connected to other urban barangays in Guiuan. Trips within the same barangay were primarily associated with daily living activities, such as shopping at sari-sari stores. Visiting relatives and school pick-up and drop-off were the main reasons for travel between barangays, except for Pob. 6, where shopping for groceries dominated as the primary activity due to its dependence on the transportation terminal and market.\n\n",
        "![Image 2](plot.png)\n\n",
        "## 5. Conclusions\n\n",
        "The analysis of the origin and destination of care trips in Guiuan provided valuable insights into travel patterns. It highlighted the prominence of care trips within the Urban Mainland region and the interconnectivity of urban barangays. It also revealed the limitations in mobility on the islands and the specific activities driving care-related travel in different barangays.\n\n",
        "Moreover, the study noted a shift in the perception of the urban area as a cohesive entity, with blurred boundaries between individual barangays. This suggests the increasing urbanization and interconnectedness of the different barangays within Guiuan.\n\n",
        "The findings from this analysis contribute to a comprehensive understanding of travel behavior and provide a foundation for developing targeted interventions and policies."
      ]
    }
  ],
  "metadata": {
    "kernelspec": {
      "display_name": "R",
      "language": "R",
      "name": "ir"
    },
    "language_info": {
      "codemirror_mode": "r",
      "file_extension": ".r",
      "mimetype": "text/x-r-source",
      "name": "R",
      "pygments_lexer": "r",
      "version": "4.1.0"
    }
  },
  "nbformat": 4,
  "nbformat_minor": 5
}
